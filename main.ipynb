{
 "cells": [
  {
   "cell_type": "code",
   "execution_count": 32,
   "metadata": {},
   "outputs": [
    {
     "name": "stdout",
     "output_type": "stream",
     "text": [
      "Number of Nodes:  1005\n",
      "Number of Edges:  25571\n"
     ]
    }
   ],
   "source": [
    "import networkx as nx\n",
    "import numpy as np\n",
    "\n",
    "G = nx.read_edgelist(\"email-Eu-core.txt\", create_using=nx.DiGraph(), nodetype = int)\n",
    "\n",
    "# number of Nodes and Edges\n",
    "print(\"Number of Nodes: \", G.number_of_nodes())\n",
    "print(\"Number of Edges: \", G.number_of_edges())"
   ]
  },
  {
   "cell_type": "code",
   "execution_count": 11,
   "metadata": {},
   "outputs": [
    {
     "name": "stdout",
     "output_type": "stream",
     "text": [
      "Nodes in largest WCC: 986 (0.981)\n",
      "Edges in largest WCC: 25552 (0.999)\n"
     ]
    }
   ],
   "source": [
    "# Number of nodes in largest Weakly Connected Component (WCC)\n",
    "\n",
    "wcc = nx.weakly_connected_components(G)\n",
    "\n",
    "# size of largest wcc according to len/size\n",
    "largestwcc = max(nx.weakly_connected_components(G), key=len)\n",
    "largestwcc = nx.subgraph(G, largestwcc) #converts wcc into subgraph\n",
    "largestwccNodes = largestwcc.number_of_nodes()\n",
    "largestwccNodeRatio = round(largestwccNodes/G.number_of_nodes(), 3)\n",
    "print( \"Nodes in largest WCC:\",  largestwccNodes, \"(\" + str(largestwccNodeRatio) + \")\" )\n",
    "\n",
    "largestwccEdges = largestwcc.number_of_edges()\n",
    "largestwccEdgeRatio = round(largestwccEdges/G.number_of_edges(), 3)\n",
    "print( \"Edges in largest WCC:\",  largestwccEdges, \"(\" + str(largestwccEdgeRatio) + \")\" )\n"
   ]
  },
  {
   "cell_type": "code",
   "execution_count": 16,
   "metadata": {},
   "outputs": [
    {
     "name": "stdout",
     "output_type": "stream",
     "text": [
      "Nodes in largest WCC: 803 (0.799)\n",
      "Edges in largest WCC: 24729 (0.967)\n"
     ]
    }
   ],
   "source": [
    "# largest strongly connected component\n",
    "largestscc =  max(nx.strongly_connected_components(G), key=len)\n",
    "largestscc = nx.subgraph(G, largestscc)\n",
    "largestsccNodes = largestscc.number_of_nodes()\n",
    "largestsccNodeRatio = round(largestsccNodes/G.number_of_nodes(), 3)\n",
    "print( \"Nodes in largest WCC:\",  largestsccNodes, \"(\" + str(largestsccNodeRatio) + \")\" )\n",
    "\n",
    "largestsccEdges = largestscc.number_of_edges()\n",
    "largestsccEdgeRatio = round(largestsccEdges/G.number_of_edges(), 3)\n",
    "print( \"Edges in largest WCC:\",  largestsccEdges, \"(\" + str(largestsccEdgeRatio) + \")\" )\n"
   ]
  },
  {
   "cell_type": "code",
   "execution_count": 17,
   "metadata": {},
   "outputs": [
    {
     "name": "stdout",
     "output_type": "stream",
     "text": [
      "Average clustering coefficient: 0.3993549664221539\n"
     ]
    }
   ],
   "source": [
    "# Average Cluster Coefficient\n",
    "H = nx.read_edgelist(\"email-Eu-core.txt\", nodetype = int) # creating a undirected graph for following statistics\n",
    "\n",
    "avgClusterCoeff = nx.average_clustering(H)\n",
    "print(\"Average clustering coefficient:\", avgClusterCoeff)\n"
   ]
  },
  {
   "cell_type": "code",
   "execution_count": 115,
   "metadata": {},
   "outputs": [
    {
     "name": "stdout",
     "output_type": "stream",
     "text": [
      "Number of triangles: 105461.0\n"
     ]
    }
   ],
   "source": [
    "# Number of Triangles\n",
    "numTriangles = sum(nx.triangles(H).values())/3 # divide by three as the total sum is 3 times num of triangles (as it counts each end of a triangle (3))\n",
    "print(\"Number of triangles:\", numTriangles)\n"
   ]
  },
  {
   "cell_type": "code",
   "execution_count": 116,
   "metadata": {},
   "outputs": [
    {
     "name": "stdout",
     "output_type": "stream",
     "text": [
      "Fraction of closed triangles: 0.001875701313731399\n"
     ]
    }
   ],
   "source": [
    "# Fraction of closed triangles\t\n",
    "fractClosedTriangles = numTriangles*3/len(list(nx.all_triplets(G)))\n",
    "print(\"Fraction of closed triangles:\", fractClosedTriangles)\n",
    "# this number is also off, I may have a misunderstanding of what a closed triangle is\n",
    "# right now considering all triplets and taking fraction of which are \"closed\" triangles"
   ]
  },
  {
   "cell_type": "code",
   "execution_count": 31,
   "metadata": {},
   "outputs": [
    {
     "name": "stdout",
     "output_type": "stream",
     "text": [
      "Diameter (longest shortest path) 7\n"
     ]
    }
   ],
   "source": [
    "# Diameter (longest shortest path)\n",
    "# Since Graphs is not fully connected (there are some unreachable nodes in the graph with no edges), \n",
    "# need to check ever component and get largest diameter across all components\n",
    "\n",
    "components = nx.connected_components(H)\n",
    "# nx.subgraph(G, largestwcc)\n",
    "diameter = -1\n",
    "for i in components:\n",
    "    subgraph = nx.subgraph(H,i)\n",
    "    if (nx.diameter(subgraph) > diameter):\n",
    "        diameter = nx.diameter(subgraph)\n",
    "\n",
    "print(\"Diameter (longest shortest path):\", diameter)"
   ]
  },
  {
   "cell_type": "code",
   "execution_count": 97,
   "metadata": {},
   "outputs": [
    {
     "name": "stdout",
     "output_type": "stream",
     "text": [
      "90-percentile effective diameter: 3.0\n"
     ]
    }
   ],
   "source": [
    "#90-percentile effective diameter\n",
    "alldist = dict(nx.all_pairs_shortest_path_length(H)) \n",
    "distarr = []\n",
    "for i in alldist.keys():\n",
    "    for j in alldist[i]:\n",
    "        distarr.append(alldist[i][j]) # this appends the all the shortest path pairs (length)\n",
    "\n",
    "print(\"90-percentile effective diameter:\",np.percentile(distarr, 90))  # 90th percentile of all shortest path pairs, slightly off (Source is 2.9)\n",
    "# might be off due to handling/mishandling of pairs that are not reachable"
   ]
  },
  {
   "cell_type": "code",
   "execution_count": 113,
   "metadata": {},
   "outputs": [
    {
     "name": "stdout",
     "output_type": "stream",
     "text": [
      "Greedy Graph Coloring Number: 19\n"
     ]
    }
   ],
   "source": [
    "#Creative Component\n",
    "\n",
    "coloring = nx.coloring.greedy_color(G, strategy=\"largest_first\")\n",
    "# print(max(coloring.values()))\n",
    "print(\"Greedy Graph Coloring Number:\" , max(coloring.values()) + 1) # add 1 as 0 is used also as a color"
   ]
  }
 ],
 "metadata": {
  "kernelspec": {
   "display_name": "Python 3",
   "language": "python",
   "name": "python3"
  },
  "language_info": {
   "codemirror_mode": {
    "name": "ipython",
    "version": 3
   },
   "file_extension": ".py",
   "mimetype": "text/x-python",
   "name": "python",
   "nbconvert_exporter": "python",
   "pygments_lexer": "ipython3",
   "version": "3.8.10"
  }
 },
 "nbformat": 4,
 "nbformat_minor": 2
}
